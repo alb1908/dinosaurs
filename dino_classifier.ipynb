{
 "cells": [
  {
   "cell_type": "code",
   "execution_count": 50,
   "metadata": {},
   "outputs": [
    {
     "name": "stdout",
     "output_type": "stream",
     "text": [
      "Collecting ipywidgets==7.6.0\n",
      "  Downloading ipywidgets-7.6.0-py2.py3-none-any.whl (121 kB)\n",
      "\u001b[K     |████████████████████████████████| 121 kB 17.6 MB/s eta 0:00:01\n",
      "\u001b[?25hRequirement already satisfied: ipython>=4.0.0; python_version >= \"3.3\" in /opt/conda/envs/fastai/lib/python3.8/site-packages (from ipywidgets==7.6.0) (7.19.0)\n",
      "Requirement already satisfied: ipykernel>=4.5.1 in /opt/conda/envs/fastai/lib/python3.8/site-packages (from ipywidgets==7.6.0) (5.3.4)\n",
      "Requirement already satisfied: nbformat>=4.2.0 in /opt/conda/envs/fastai/lib/python3.8/site-packages (from ipywidgets==7.6.0) (5.0.8)\n",
      "Requirement already satisfied: traitlets>=4.3.1 in /opt/conda/envs/fastai/lib/python3.8/site-packages (from ipywidgets==7.6.0) (5.0.5)\n",
      "Collecting jupyterlab-widgets>=1.0.0\n",
      "  Downloading jupyterlab_widgets-1.0.0-py3-none-any.whl (243 kB)\n",
      "\u001b[K     |████████████████████████████████| 243 kB 34.5 MB/s eta 0:00:01\n",
      "\u001b[?25hRequirement already satisfied: widgetsnbextension~=3.5.0 in /opt/conda/envs/fastai/lib/python3.8/site-packages (from ipywidgets==7.6.0) (3.5.1)\n",
      "Requirement already satisfied: pexpect>4.3; sys_platform != \"win32\" in /opt/conda/envs/fastai/lib/python3.8/site-packages (from ipython>=4.0.0; python_version >= \"3.3\"->ipywidgets==7.6.0) (4.8.0)\n",
      "Requirement already satisfied: pygments in /opt/conda/envs/fastai/lib/python3.8/site-packages (from ipython>=4.0.0; python_version >= \"3.3\"->ipywidgets==7.6.0) (2.7.2)\n",
      "Requirement already satisfied: pickleshare in /opt/conda/envs/fastai/lib/python3.8/site-packages (from ipython>=4.0.0; python_version >= \"3.3\"->ipywidgets==7.6.0) (0.7.5)\n",
      "Requirement already satisfied: jedi>=0.10 in /opt/conda/envs/fastai/lib/python3.8/site-packages (from ipython>=4.0.0; python_version >= \"3.3\"->ipywidgets==7.6.0) (0.17.2)\n",
      "Requirement already satisfied: decorator in /opt/conda/envs/fastai/lib/python3.8/site-packages (from ipython>=4.0.0; python_version >= \"3.3\"->ipywidgets==7.6.0) (4.4.2)\n",
      "Requirement already satisfied: setuptools>=18.5 in /opt/conda/envs/fastai/lib/python3.8/site-packages (from ipython>=4.0.0; python_version >= \"3.3\"->ipywidgets==7.6.0) (49.6.0.post20201009)\n",
      "Requirement already satisfied: backcall in /opt/conda/envs/fastai/lib/python3.8/site-packages (from ipython>=4.0.0; python_version >= \"3.3\"->ipywidgets==7.6.0) (0.2.0)\n",
      "Requirement already satisfied: prompt-toolkit!=3.0.0,!=3.0.1,<3.1.0,>=2.0.0 in /opt/conda/envs/fastai/lib/python3.8/site-packages (from ipython>=4.0.0; python_version >= \"3.3\"->ipywidgets==7.6.0) (3.0.8)\n",
      "Requirement already satisfied: jupyter-client in /opt/conda/envs/fastai/lib/python3.8/site-packages (from ipykernel>=4.5.1->ipywidgets==7.6.0) (6.1.7)\n",
      "Requirement already satisfied: tornado>=4.2 in /opt/conda/envs/fastai/lib/python3.8/site-packages (from ipykernel>=4.5.1->ipywidgets==7.6.0) (6.1)\n",
      "Requirement already satisfied: jupyter-core in /opt/conda/envs/fastai/lib/python3.8/site-packages (from nbformat>=4.2.0->ipywidgets==7.6.0) (4.7.0)\n",
      "Requirement already satisfied: jsonschema!=2.5.0,>=2.4 in /opt/conda/envs/fastai/lib/python3.8/site-packages (from nbformat>=4.2.0->ipywidgets==7.6.0) (3.2.0)\n",
      "Requirement already satisfied: ipython-genutils in /opt/conda/envs/fastai/lib/python3.8/site-packages (from nbformat>=4.2.0->ipywidgets==7.6.0) (0.2.0)\n",
      "Requirement already satisfied: notebook>=4.4.1 in /opt/conda/envs/fastai/lib/python3.8/site-packages (from widgetsnbextension~=3.5.0->ipywidgets==7.6.0) (6.1.5)\n",
      "Requirement already satisfied: ptyprocess>=0.5 in /opt/conda/envs/fastai/lib/python3.8/site-packages (from pexpect>4.3; sys_platform != \"win32\"->ipython>=4.0.0; python_version >= \"3.3\"->ipywidgets==7.6.0) (0.6.0)\n",
      "Requirement already satisfied: parso<0.8.0,>=0.7.0 in /opt/conda/envs/fastai/lib/python3.8/site-packages (from jedi>=0.10->ipython>=4.0.0; python_version >= \"3.3\"->ipywidgets==7.6.0) (0.7.1)\n",
      "Requirement already satisfied: wcwidth in /opt/conda/envs/fastai/lib/python3.8/site-packages (from prompt-toolkit!=3.0.0,!=3.0.1,<3.1.0,>=2.0.0->ipython>=4.0.0; python_version >= \"3.3\"->ipywidgets==7.6.0) (0.2.5)\n",
      "Requirement already satisfied: pyzmq>=13 in /opt/conda/envs/fastai/lib/python3.8/site-packages (from jupyter-client->ipykernel>=4.5.1->ipywidgets==7.6.0) (20.0.0)\n",
      "Requirement already satisfied: python-dateutil>=2.1 in /opt/conda/envs/fastai/lib/python3.8/site-packages (from jupyter-client->ipykernel>=4.5.1->ipywidgets==7.6.0) (2.8.1)\n",
      "Requirement already satisfied: attrs>=17.4.0 in /opt/conda/envs/fastai/lib/python3.8/site-packages (from jsonschema!=2.5.0,>=2.4->nbformat>=4.2.0->ipywidgets==7.6.0) (20.3.0)\n",
      "Requirement already satisfied: pyrsistent>=0.14.0 in /opt/conda/envs/fastai/lib/python3.8/site-packages (from jsonschema!=2.5.0,>=2.4->nbformat>=4.2.0->ipywidgets==7.6.0) (0.17.3)\n",
      "Requirement already satisfied: six>=1.11.0 in /opt/conda/envs/fastai/lib/python3.8/site-packages (from jsonschema!=2.5.0,>=2.4->nbformat>=4.2.0->ipywidgets==7.6.0) (1.15.0)\n",
      "Requirement already satisfied: jinja2 in /opt/conda/envs/fastai/lib/python3.8/site-packages (from notebook>=4.4.1->widgetsnbextension~=3.5.0->ipywidgets==7.6.0) (2.11.2)\n",
      "Requirement already satisfied: argon2-cffi in /opt/conda/envs/fastai/lib/python3.8/site-packages (from notebook>=4.4.1->widgetsnbextension~=3.5.0->ipywidgets==7.6.0) (20.1.0)\n",
      "Requirement already satisfied: Send2Trash in /opt/conda/envs/fastai/lib/python3.8/site-packages (from notebook>=4.4.1->widgetsnbextension~=3.5.0->ipywidgets==7.6.0) (1.5.0)\n",
      "Requirement already satisfied: terminado>=0.8.3 in /opt/conda/envs/fastai/lib/python3.8/site-packages (from notebook>=4.4.1->widgetsnbextension~=3.5.0->ipywidgets==7.6.0) (0.9.1)\n",
      "Requirement already satisfied: prometheus-client in /opt/conda/envs/fastai/lib/python3.8/site-packages (from notebook>=4.4.1->widgetsnbextension~=3.5.0->ipywidgets==7.6.0) (0.9.0)\n",
      "Requirement already satisfied: nbconvert in /opt/conda/envs/fastai/lib/python3.8/site-packages (from notebook>=4.4.1->widgetsnbextension~=3.5.0->ipywidgets==7.6.0) (6.0.7)\n",
      "Requirement already satisfied: MarkupSafe>=0.23 in /opt/conda/envs/fastai/lib/python3.8/site-packages (from jinja2->notebook>=4.4.1->widgetsnbextension~=3.5.0->ipywidgets==7.6.0) (1.1.1)\n",
      "Requirement already satisfied: cffi>=1.0.0 in /opt/conda/envs/fastai/lib/python3.8/site-packages (from argon2-cffi->notebook>=4.4.1->widgetsnbextension~=3.5.0->ipywidgets==7.6.0) (1.14.3)\n",
      "Requirement already satisfied: pandocfilters>=1.4.1 in /opt/conda/envs/fastai/lib/python3.8/site-packages (from nbconvert->notebook>=4.4.1->widgetsnbextension~=3.5.0->ipywidgets==7.6.0) (1.4.2)\n",
      "Requirement already satisfied: bleach in /opt/conda/envs/fastai/lib/python3.8/site-packages (from nbconvert->notebook>=4.4.1->widgetsnbextension~=3.5.0->ipywidgets==7.6.0) (3.2.1)\n",
      "Requirement already satisfied: defusedxml in /opt/conda/envs/fastai/lib/python3.8/site-packages (from nbconvert->notebook>=4.4.1->widgetsnbextension~=3.5.0->ipywidgets==7.6.0) (0.6.0)\n",
      "Requirement already satisfied: nbclient<0.6.0,>=0.5.0 in /opt/conda/envs/fastai/lib/python3.8/site-packages (from nbconvert->notebook>=4.4.1->widgetsnbextension~=3.5.0->ipywidgets==7.6.0) (0.5.1)\n",
      "Requirement already satisfied: jupyterlab-pygments in /opt/conda/envs/fastai/lib/python3.8/site-packages (from nbconvert->notebook>=4.4.1->widgetsnbextension~=3.5.0->ipywidgets==7.6.0) (0.1.2)\n",
      "Requirement already satisfied: mistune<2,>=0.8.1 in /opt/conda/envs/fastai/lib/python3.8/site-packages (from nbconvert->notebook>=4.4.1->widgetsnbextension~=3.5.0->ipywidgets==7.6.0) (0.8.4)\n",
      "Requirement already satisfied: testpath in /opt/conda/envs/fastai/lib/python3.8/site-packages (from nbconvert->notebook>=4.4.1->widgetsnbextension~=3.5.0->ipywidgets==7.6.0) (0.4.4)\n",
      "Requirement already satisfied: entrypoints>=0.2.2 in /opt/conda/envs/fastai/lib/python3.8/site-packages (from nbconvert->notebook>=4.4.1->widgetsnbextension~=3.5.0->ipywidgets==7.6.0) (0.3)\n",
      "Requirement already satisfied: pycparser in /opt/conda/envs/fastai/lib/python3.8/site-packages (from cffi>=1.0.0->argon2-cffi->notebook>=4.4.1->widgetsnbextension~=3.5.0->ipywidgets==7.6.0) (2.20)\n",
      "Requirement already satisfied: webencodings in /opt/conda/envs/fastai/lib/python3.8/site-packages (from bleach->nbconvert->notebook>=4.4.1->widgetsnbextension~=3.5.0->ipywidgets==7.6.0) (0.5.1)\n",
      "Requirement already satisfied: packaging in /opt/conda/envs/fastai/lib/python3.8/site-packages (from bleach->nbconvert->notebook>=4.4.1->widgetsnbextension~=3.5.0->ipywidgets==7.6.0) (20.4)\n",
      "Requirement already satisfied: async-generator in /opt/conda/envs/fastai/lib/python3.8/site-packages (from nbclient<0.6.0,>=0.5.0->nbconvert->notebook>=4.4.1->widgetsnbextension~=3.5.0->ipywidgets==7.6.0) (1.10)\n",
      "Requirement already satisfied: nest-asyncio in /opt/conda/envs/fastai/lib/python3.8/site-packages (from nbclient<0.6.0,>=0.5.0->nbconvert->notebook>=4.4.1->widgetsnbextension~=3.5.0->ipywidgets==7.6.0) (1.4.3)\n",
      "Requirement already satisfied: pyparsing>=2.0.2 in /opt/conda/envs/fastai/lib/python3.8/site-packages (from packaging->bleach->nbconvert->notebook>=4.4.1->widgetsnbextension~=3.5.0->ipywidgets==7.6.0) (2.4.7)\n"
     ]
    },
    {
     "name": "stdout",
     "output_type": "stream",
     "text": [
      "Installing collected packages: jupyterlab-widgets, ipywidgets\n",
      "  Attempting uninstall: ipywidgets\n",
      "    Found existing installation: ipywidgets 7.5.1\n",
      "    Uninstalling ipywidgets-7.5.1:\n",
      "      Successfully uninstalled ipywidgets-7.5.1\n",
      "Successfully installed ipywidgets-7.6.0 jupyterlab-widgets-1.0.0\n"
     ]
    }
   ],
   "source": [
    "!pip install ipywidgets==7.6.0"
   ]
  },
  {
   "cell_type": "code",
   "execution_count": 13,
   "metadata": {},
   "outputs": [],
   "source": [
    "#hide\n",
    "from fastai.vision.all import *\n",
    "from fastai.vision.widgets import *\n",
    "import ipywidgets as widgets\n",
    "\n",
    "import IPython.display as ipd\n",
    "from IPython.display import YouTubeVideo"
   ]
  },
  {
   "cell_type": "code",
   "execution_count": 14,
   "metadata": {},
   "outputs": [],
   "source": [
    "path = Path()\n",
    "learn_inf = load_learner(path/'export.pkl')\n",
    "btn_upload = widgets.FileUpload()\n",
    "out_pl = widgets.Output()\n",
    "lbl_pred = widgets.Label()\n",
    "#audio = widgets.()\n",
    "btn_run = widgets.Button(description='Classify')"
   ]
  },
  {
   "cell_type": "code",
   "execution_count": 17,
   "metadata": {},
   "outputs": [],
   "source": [
    "def on_click_classify(change):\n",
    "    img = PILImage.create(btn_upload.data[-1])\n",
    "    out_pl.clear_output()\n",
    "    \n",
    "    with out_pl: \n",
    "        display(img.to_thumb(128,128))\n",
    "        pred, pred_idx, probs = learn_inf.predict(img)\n",
    "       # ipd.Audio(filename=f'{pred}.mp3', autoplay = True)\n",
    "        lbl_pred.value = f'Prediction: {pred}; Probability: {probs[pred_idx]:.04f}'\n",
    "    \n",
    "    \n",
    "btn_run.on_click(on_click_classify)"
   ]
  },
  {
   "cell_type": "code",
   "execution_count": 18,
   "metadata": {
    "scrolled": false
   },
   "outputs": [
    {
     "data": {
      "application/vnd.jupyter.widget-view+json": {
       "model_id": "105d38d5145545b79b24dc96c22a495a",
       "version_major": 2,
       "version_minor": 0
      },
      "text/plain": [
       "VBox(children=(Label(value='Select your dinosaur!'), FileUpload(value={'download_ed.jpg': {'metadata': {'name'…"
      ]
     },
     "metadata": {},
     "output_type": "display_data"
    }
   ],
   "source": [
    "#hide_output\n",
    "\n",
    "VBox([widgets.Label('Select your dinosaur!'), \n",
    "      btn_upload, btn_run, out_pl, lbl_pred])"
   ]
  },
  {
   "cell_type": "code",
   "execution_count": 19,
   "metadata": {},
   "outputs": [
    {
     "data": {
      "text/html": [],
      "text/plain": [
       "<IPython.core.display.HTML object>"
      ]
     },
     "metadata": {},
     "output_type": "display_data"
    },
    {
     "data": {
      "text/html": [
       "\n",
       "                <audio  controls=\"controls\" autoplay=\"autoplay\">\n",
       "                    <source src=\"data:audio/mpeg;base64,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\" type=\"audio/mpeg\" />\n",
       "                    Your browser does not support the audio element.\n",
       "                </audio>\n",
       "              "
      ],
      "text/plain": [
       "<IPython.lib.display.Audio object>"
      ]
     },
     "execution_count": 19,
     "metadata": {},
     "output_type": "execute_result"
    }
   ],
   "source": [
    "img = PILImage.create(btn_upload.data[0])\n",
    "pred, pred_idx, probs = learn_inf.predict(img)\n",
    "ipd.Audio(filename=f'{pred}.mp3', autoplay = True)"
   ]
  }
 ],
 "metadata": {
  "kernelspec": {
   "display_name": "Python 3",
   "language": "python",
   "name": "python3"
  },
  "language_info": {
   "codemirror_mode": {
    "name": "ipython",
    "version": 3
   },
   "file_extension": ".py",
   "mimetype": "text/x-python",
   "name": "python",
   "nbconvert_exporter": "python",
   "pygments_lexer": "ipython3",
   "version": "3.8.6"
  }
 },
 "nbformat": 4,
 "nbformat_minor": 4
}
